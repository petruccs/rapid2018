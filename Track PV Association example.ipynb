{
 "cells": [
  {
   "cell_type": "code",
   "execution_count": 2,
   "metadata": {},
   "outputs": [],
   "source": [
    "import json\n",
    "from matplotlib import pyplot as plt\n",
    "from pprint import pprint\n",
    "import numpy as np\n",
    "import pandas as pd\n",
    "%matplotlib inline\n",
    "plt.rcParams['figure.figsize'] = (10, 6)"
   ]
  },
  {
   "cell_type": "code",
   "execution_count": 3,
   "metadata": {},
   "outputs": [
    {
     "name": "stdout",
     "output_type": "stream",
     "text": [
      "EventNumber\n",
      "MCParticles\n",
      "MCVertices\n",
      "RunNumber\n",
      "VPClusters\n",
      "VeloTracks\n"
     ]
    }
   ],
   "source": [
    "jdata = json.load(open('data/train/RapidVPData_6918609_693027.json'))\n",
    "for key in jdata:\n",
    "    print(key)"
   ]
  },
  {
   "cell_type": "code",
   "execution_count": 4,
   "metadata": {},
   "outputs": [],
   "source": [
    "VeloTracks  = jdata['VeloTracks']\n",
    "VeloHits  = jdata['VPClusters']\n",
    "mcps = jdata['MCParticles']\n",
    "mcvs = jdata['MCVertices']"
   ]
  },
  {
   "cell_type": "code",
   "execution_count": 6,
   "metadata": {},
   "outputs": [
    {
     "name": "stdout",
     "output_type": "stream",
     "text": [
      "{'ClosestToBeam': [0.01643084393756844, -0.030428914618081393, 21.892009735107422, 0.004823623690754175, -0.010355439968407154, 0.0], 'LHCbIDs': ['2193111806', '2195207147', '2197303265', '2199399639', '2201495757'], 'MCPs': ['8917'], 'errCTBState': [0.006562070954433931, 0.006562070954433931, 2.2658468878944404e-08, 2.2658468878944404e-08, -1.2069097536892594e-05], 'isBackwards': False, 'key': '0'} (-0.0029, 0.0246, 18.7183, '333')\n"
     ]
    }
   ],
   "source": [
    "vs =  list(VeloTracks.values())[0]\n",
    "def getPVParams(track, mcps, mcvs):\n",
    "    \"\"\" Given a track dict, the list of MCParticles and MCVertices \n",
    "    return the track PV position and ID (or None if not found or ambiguous)\"\"\"\n",
    "    track_mcps = track['MCPs']\n",
    "    # We ignore the tracks with no association to MCP or more than one\n",
    "    if len(track_mcps) != 1:\n",
    "        return None\n",
    "    track_mcp = mcps[track_mcps[0]]\n",
    "    track_pv_id = track_mcp['PV']\n",
    "    track_pv = mcvs[track_pv_id]\n",
    "    pos = track_pv['Pos']\n",
    "    return pos[0], pos[1], pos[2], track_pv['key']\n",
    "\n",
    "print(vs, getPVParams(vs, mcps, mcvs))"
   ]
  },
  {
   "cell_type": "code",
   "execution_count": null,
   "metadata": {},
   "outputs": [],
   "source": []
  }
 ],
 "metadata": {
  "kernelspec": {
   "display_name": "Python 3",
   "language": "python",
   "name": "python3"
  },
  "language_info": {
   "codemirror_mode": {
    "name": "ipython",
    "version": 3
   },
   "file_extension": ".py",
   "mimetype": "text/x-python",
   "name": "python",
   "nbconvert_exporter": "python",
   "pygments_lexer": "ipython3",
   "version": "3.6.6"
  }
 },
 "nbformat": 4,
 "nbformat_minor": 2
}
