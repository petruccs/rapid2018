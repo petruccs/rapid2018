{
 "cells": [
  {
   "cell_type": "code",
   "execution_count": 122,
   "metadata": {},
   "outputs": [],
   "source": [
    "import json\n",
    "import pandas as pd\n",
    "import numpy as np\n",
    "import matplotlib.pyplot as plt\n",
    "from scipy.signal import find_peaks\n",
    "\n",
    "def load_data(filename):\n",
    "    with open(filename) as jsonfile:\n",
    "      data = json.load(jsonfile)\n",
    "    df = pd.DataFrame(data['VeloTracks']).T\n",
    "    df['x'] = df['ClosestToBeam'].map(lambda l: l[0])\n",
    "    df['y'] = df['ClosestToBeam'].map(lambda l: l[1])\n",
    "    df['z'] = df['ClosestToBeam'].map(lambda l: l[2])\n",
    "    df['dx'] = df['ClosestToBeam'].map(lambda l: l[3])\n",
    "    df['dy'] = df['ClosestToBeam'].map(lambda l: l[4])\n",
    "    df['cov_x'] = df['errCTBState'].map(lambda l: l[0])\n",
    "    df['cov_y'] = df['errCTBState'].map(lambda l: l[1])\n",
    "    df['cov_dx'] = df['errCTBState'].map(lambda l: l[2])\n",
    "    df['cov_dy'] = df['errCTBState'].map(lambda l: l[3])\n",
    "    df['cov_xdx'] = df['errCTBState'].map(lambda l: l[4])\n",
    "    df['event'] = data['EventNumber']\n",
    "    df['run'] = data['RunNumber']\n",
    "    df = df.drop('ClosestToBeam', axis=1).drop('errCTBState', axis=1)\n",
    "    return df\n",
    "\n",
    "d = load_data(\"data/train/RapidVPData_6915602_43455.json\")\n"
   ]
  },
  {
   "cell_type": "code",
   "execution_count": 123,
   "metadata": {},
   "outputs": [],
   "source": [
    "zs = list(d[\"z\"])\n",
    "zs\n",
    "hist = np.histogram(zs, bins = 100)[0]"
   ]
  },
  {
   "cell_type": "code",
   "execution_count": 124,
   "metadata": {},
   "outputs": [],
   "source": [
    "%matplotlib inline"
   ]
  },
  {
   "cell_type": "code",
   "execution_count": 125,
   "metadata": {},
   "outputs": [
    {
     "data": {
      "image/png": "[encoded data removed]",
      "text/plain": [
       "<Figure size 432x288 with 1 Axes>"
      ]
     },
     "metadata": {
      "needs_background": "light"
     },
     "output_type": "display_data"
    }
   ],
   "source": [
    "plt.hist(zs, bins=100)\n",
    "plt.show()"
   ]
  },
  {
   "cell_type": "code",
   "execution_count": 127,
   "metadata": {},
   "outputs": [
    {
     "name": "stdout",
     "output_type": "stream",
     "text": [
      "(array([ 7,  9, 21, 23]), {'peak_heights': array([ 41.,  22.,  39., 115.])})\n"
     ]
    }
   ],
   "source": [
    "print(find_peaks(hist, height = 5))"
   ]
  },
  {
   "cell_type": "code",
   "execution_count": null,
   "metadata": {},
   "outputs": [],
   "source": []
  },
  {
   "cell_type": "code",
   "execution_count": null,
   "metadata": {},
   "outputs": [],
   "source": []
  }
 ],
 "metadata": {
  "kernelspec": {
   "display_name": "Python 3",
   "language": "python",
   "name": "python3"
  },
  "language_info": {
   "codemirror_mode": {
    "name": "ipython",
    "version": 3
   },
   "file_extension": ".py",
   "mimetype": "text/x-python",
   "name": "python",
   "nbconvert_exporter": "python",
   "pygments_lexer": "ipython3",
   "version": "3.6.6"
  }
 },
 "nbformat": 4,
 "nbformat_minor": 2
}
