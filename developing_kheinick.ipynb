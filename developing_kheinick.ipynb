{
 "cells": [
  {
   "cell_type": "code",
   "execution_count": 1,
   "metadata": {},
   "outputs": [],
   "source": [
    "import matplotlib.pyplot as plt\n",
    "import pandas as pd\n",
    "import numpy as np"
   ]
  },
  {
   "cell_type": "code",
   "execution_count": 2,
   "metadata": {},
   "outputs": [],
   "source": [
    "%matplotlib inline"
   ]
  },
  {
   "cell_type": "code",
   "execution_count": 3,
   "metadata": {},
   "outputs": [],
   "source": [
    "%load_ext autoreload"
   ]
  },
  {
   "cell_type": "code",
   "execution_count": 4,
   "metadata": {},
   "outputs": [],
   "source": [
    "%autoreload 2"
   ]
  },
  {
   "cell_type": "code",
   "execution_count": 5,
   "metadata": {},
   "outputs": [],
   "source": [
    "plt.rcParams['figure.figsize'] = (10, 8)"
   ]
  },
  {
   "cell_type": "code",
   "execution_count": 6,
   "metadata": {},
   "outputs": [],
   "source": [
    "import sys\n",
    "sys.path.insert(0, '../rapid2018/')"
   ]
  },
  {
   "cell_type": "code",
   "execution_count": 7,
   "metadata": {},
   "outputs": [],
   "source": [
    "from load_data import load_data, load_directory\n",
    "from clustering import clustering, predict_cluster"
   ]
  },
  {
   "cell_type": "code",
   "execution_count": 8,
   "metadata": {},
   "outputs": [],
   "source": [
    "file = '../vertex_finding/data/train/RapidVPData_6915602_43417.json'"
   ]
  },
  {
   "cell_type": "code",
   "execution_count": 9,
   "metadata": {},
   "outputs": [],
   "source": [
    "df = load_data(file)"
   ]
  },
  {
   "cell_type": "code",
   "execution_count": 10,
   "metadata": {},
   "outputs": [],
   "source": [
    "df = predict_cluster(df, 1.625)"
   ]
  },
  {
   "cell_type": "code",
   "execution_count": 11,
   "metadata": {},
   "outputs": [],
   "source": [
    "df['cluster_x'] = df['cluster_y'] = df['cluster_z'] = np.nan"
   ]
  },
  {
   "cell_type": "code",
   "execution_count": 12,
   "metadata": {},
   "outputs": [],
   "source": [
    "def add_vertex_info(df):\n",
    "    for cluster in df.cluster_idx.unique():\n",
    "        if cluster < 0:\n",
    "            continue\n",
    "\n",
    "        df.loc[df.cluster_idx == cluster, 'cluster_x'] = df.query(f'cluster_idx == {cluster}').x.mean()\n",
    "        df.loc[df.cluster_idx == cluster, 'cluster_y'] = df.query(f'cluster_idx == {cluster}').y.mean()\n",
    "        df.loc[df.cluster_idx == cluster, 'cluster_z'] = df.query(f'cluster_idx == {cluster}').z.mean()\n",
    "        \n",
    "    df['x_shifted'] = df.x - df.cluster_x\n",
    "    df['y_shifted'] = df.y - df.cluster_y\n",
    "    df['z_shifted'] = df.z - df.cluster_z\n",
    "    \n",
    "    return df"
   ]
  },
  {
   "cell_type": "code",
   "execution_count": 14,
   "metadata": {},
   "outputs": [],
   "source": [
    "df = add_vertex_info(df)"
   ]
  },
  {
   "cell_type": "code",
   "execution_count": 15,
   "metadata": {},
   "outputs": [
    {
     "data": {
      "image/png": "[encoded data removed]",
      "text/plain": [
       "<Figure size 720x576 with 1 Axes>"
      ]
     },
     "metadata": {
      "needs_background": "light"
     },
     "output_type": "display_data"
    }
   ],
   "source": [
    "df.z_shifted.hist(bins=100)\n",
    "plt.show()"
   ]
  },
  {
   "cell_type": "code",
   "execution_count": 24,
   "metadata": {},
   "outputs": [
    {
     "name": "stderr",
     "output_type": "stream",
     "text": [
      "100%|██████████| 10/10 [00:04<00:00,  1.99it/s]\n"
     ]
    }
   ],
   "source": [
    "dfs = load_directory('../vertex_finding/data/train/', max_files=10)"
   ]
  },
  {
   "cell_type": "code",
   "execution_count": 35,
   "metadata": {},
   "outputs": [],
   "source": [
    "def filter_clusters(df, inplace=False):\n",
    "    df = df.query('cluster_idx >= 0 and mcpvprods > 10', inplace=inplace)\n",
    "    return df"
   ]
  },
  {
   "cell_type": "code",
   "execution_count": 36,
   "metadata": {},
   "outputs": [],
   "source": [
    "for df in dfs:\n",
    "    predict_cluster(df)\n",
    "    add_vertex_info(df)\n",
    "    filter_clusters(df, inplace=True)"
   ]
  },
  {
   "cell_type": "code",
   "execution_count": 43,
   "metadata": {},
   "outputs": [
    {
     "name": "stdout",
     "output_type": "stream",
     "text": [
      "LHCbIDs',\n",
      "'MCPs',\n",
      "'isBackwards',\n",
      "'key',\n",
      "'x',\n",
      "'y',\n",
      "'z',\n",
      "'dx',\n",
      "'dy',\n",
      "'cov_x',\n",
      "'cov_y',\n",
      "'cov_dx',\n",
      "'cov_dy',\n",
      "'cov_xdx',\n",
      "'event',\n",
      "'run',\n",
      "'mcpx',\n",
      "'mcpy',\n",
      "'mcpz',\n",
      "'mcpvid',\n",
      "'mcpvprods',\n",
      "'rho',\n",
      "'cluster_idx',\n",
      "'cluster_x',\n",
      "'cluster_y',\n",
      "'cluster_z',\n",
      "'x_shifted',\n",
      "'y_shifted',\n",
      "'z_shifted\n"
     ]
    }
   ],
   "source": [
    "print(*df.columns, sep='\\',\\n\\'')"
   ]
  },
  {
   "cell_type": "code",
   "execution_count": 54,
   "metadata": {},
   "outputs": [],
   "source": [
    "features = [\n",
    "    'x',\n",
    "    'y',\n",
    "    'z',\n",
    "    'dx',\n",
    "    'dy',\n",
    "    'cov_x',\n",
    "    'cov_y',\n",
    "    'cov_dx',\n",
    "    'cov_dy',\n",
    "    'cov_xdx',\n",
    "    'rho',\n",
    "    'x_shifted',\n",
    "    'y_shifted',\n",
    "    'z_shifted',\n",
    "]"
   ]
  },
  {
   "cell_type": "code",
   "execution_count": 174,
   "metadata": {
    "scrolled": true
   },
   "outputs": [],
   "source": [
    "def get_Xy_data(df, max_tracks=500):\n",
    "    \"\"\" Transform our nice dataframes to numpy arrays of track features per cluster\n",
    "    and MC vertex positions.\n",
    "    \"\"\"\n",
    "    clusters = []\n",
    "    mc_vertices = []\n",
    "    for cluster in df.cluster_idx.unique():\n",
    "        X = df.loc[df.cluster_idx == cluster, features].values\n",
    "        X = np.pad(X, ((0, max_tracks - X.shape[0]), (0, 0)), mode='constant')\n",
    "        clusters.append(X)\n",
    "        mc_vertices.append(df.loc[df.cluster_idx == cluster, ['mcpx', 'mcpy', 'mcpz']].iloc[0].values)\n",
    "        \n",
    "    return np.array(clusters), np.array(mc_vertices)"
   ]
  },
  {
   "cell_type": "code",
   "execution_count": 242,
   "metadata": {},
   "outputs": [],
   "source": [
    "Xs = ys = None"
   ]
  },
  {
   "cell_type": "code",
   "execution_count": 243,
   "metadata": {},
   "outputs": [],
   "source": [
    "for df in dfs:\n",
    "    X, y = get_Xy_data(df)\n",
    "    if Xs is None:\n",
    "        Xs = X\n",
    "        ys = y\n",
    "    else:\n",
    "        Xs = np.append(Xs, X, axis=0)\n",
    "        ys = np.append(ys, y, axis=0)"
   ]
  },
  {
   "cell_type": "code",
   "execution_count": 248,
   "metadata": {},
   "outputs": [],
   "source": [
    "from keras.models import Sequential\n",
    "from keras.layers import GRU, Dense, Input"
   ]
  },
  {
   "cell_type": "code",
   "execution_count": 249,
   "metadata": {},
   "outputs": [],
   "source": [
    "model = Sequential()\n",
    "\n",
    "model.add(GRU(50))\n",
    "model.add(Dense(3, activation='softmax'))"
   ]
  },
  {
   "cell_type": "code",
   "execution_count": 250,
   "metadata": {},
   "outputs": [],
   "source": [
    "model.compile('sgd', loss=keras.losses.categorical_crossentropy)"
   ]
  },
  {
   "cell_type": "code",
   "execution_count": 251,
   "metadata": {},
   "outputs": [
    {
     "name": "stdout",
     "output_type": "stream",
     "text": [
      "Epoch 1/1\n",
      "18/18 [==============================] - 1s 62ms/step - loss: -61.2160\n"
     ]
    },
    {
     "data": {
      "text/plain": [
       "<keras.callbacks.History at 0x131181f98>"
      ]
     },
     "execution_count": 251,
     "metadata": {},
     "output_type": "execute_result"
    }
   ],
   "source": [
    "model.fit(Xs, ys)"
   ]
  },
  {
   "cell_type": "code",
   "execution_count": 225,
   "metadata": {},
   "outputs": [
    {
     "data": {
      "text/plain": [
       "array([[  0.36908199,   0.47715163, 112.3317664 ],\n",
       "       [  0.38448199,   0.45565163,  64.2655664 ],\n",
       "       [  0.41178202,   0.47835163, -48.8144336 ],\n",
       "       [  0.41348202,   0.51195163,  86.0628664 ],\n",
       "       [  0.41558199,   0.43965163, 146.2747664 ],\n",
       "       [  0.42598199,   0.49675163, 101.8971664 ],\n",
       "       [  0.38628199,   0.48115163,   0.2781664 ],\n",
       "       [  0.36298199,   0.50275163, 169.4736664 ],\n",
       "       [  0.41808199,   0.47215163, -22.97853359],\n",
       "       [  0.44458199,   0.50515163,  23.5076664 ],\n",
       "       [  0.45018196,   0.50445163,  32.73866641],\n",
       "       [  0.41248199,   0.47235163, 146.9615664 ],\n",
       "       [  0.39608202,   0.47225163,  61.9501664 ],\n",
       "       [  0.40188202,   0.46205163,  -1.2468336 ],\n",
       "       [  0.40668202,   0.50065163, 123.6020664 ],\n",
       "       [  0.42078202,   0.45315163, -46.7066336 ],\n",
       "       [  0.46538199,   0.47565163, 150.92606641],\n",
       "       [  0.43058199,   0.48255163, -95.60203359]])"
      ]
     },
     "execution_count": 225,
     "metadata": {},
     "output_type": "execute_result"
    }
   ],
   "source": [
    "model.predict(Xs)"
   ]
  }
 ],
 "metadata": {
  "kernelspec": {
   "display_name": "Python 3",
   "language": "python",
   "name": "python3"
  },
  "language_info": {
   "codemirror_mode": {
    "name": "ipython",
    "version": 3
   },
   "file_extension": ".py",
   "mimetype": "text/x-python",
   "name": "python",
   "nbconvert_exporter": "python",
   "pygments_lexer": "ipython3",
   "version": "3.6.5"
  }
 },
 "nbformat": 4,
 "nbformat_minor": 2
}
